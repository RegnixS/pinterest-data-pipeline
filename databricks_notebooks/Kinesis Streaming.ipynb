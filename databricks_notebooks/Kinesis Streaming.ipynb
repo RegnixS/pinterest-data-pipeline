{
 "cells": [
  {
   "cell_type": "markdown",
   "metadata": {
    "application/vnd.databricks.v1+cell": {
     "cellMetadata": {},
     "inputWidgets": {},
     "nuid": "c2b26212-3d30-489a-ad3c-33f1bd4fdd11",
     "showTitle": false,
     "title": ""
    }
   },
   "source": [
    "# Kinesis Streaming\n",
    "1. Get the AWS authentication key file\n",
    "2. Read the pin Kinesis stream\n",
    "3. Clean the pin data\n",
    "4. Save pin to a delta table\n",
    "5. Read the geo Kinesis stream\n",
    "6. Clean the geo data\n",
    "7. Save geo to a delta table\n",
    "8. Read the user Kinesis stream\n",
    "9. Clean the user data\n",
    "10. Save user to a delta table"
   ]
  },
  {
   "cell_type": "markdown",
   "metadata": {
    "application/vnd.databricks.v1+cell": {
     "cellMetadata": {},
     "inputWidgets": {},
     "nuid": "7230c2b3-1777-4cd6-845f-d0a346ec4859",
     "showTitle": false,
     "title": ""
    }
   },
   "source": [
    "## Get authentication File"
   ]
  },
  {
   "cell_type": "code",
   "execution_count": 0,
   "metadata": {
    "application/vnd.databricks.v1+cell": {
     "cellMetadata": {},
     "inputWidgets": {},
     "nuid": "00d14160-1caa-4b2a-8608-c0892813d2e7",
     "showTitle": false,
     "title": ""
    }
   },
   "outputs": [],
   "source": [
    "%run \"./AWS Access Utils\""
   ]
  },
  {
   "cell_type": "markdown",
   "metadata": {
    "application/vnd.databricks.v1+cell": {
     "cellMetadata": {},
     "inputWidgets": {},
     "nuid": "5154591c-658a-47dd-a9ac-6d76a567b05b",
     "showTitle": false,
     "title": ""
    }
   },
   "source": [
    "## Read the pin Kinesis stream"
   ]
  },
  {
   "cell_type": "code",
   "execution_count": 0,
   "metadata": {
    "application/vnd.databricks.v1+cell": {
     "cellMetadata": {},
     "inputWidgets": {},
     "nuid": "287cf7e3-0d98-4664-9a50-ca27b2db05d5",
     "showTitle": false,
     "title": ""
    }
   },
   "outputs": [],
   "source": [
    "# Define the structure of the array in the \"data\" column\n",
    "schema = (\n",
    "    \"index long, unique_id string, title string, description string, poster_name string, \" +\n",
    "    \"follower_count string, tag_list string, is_image_or_video string, \" +\n",
    "    \"image_src string, downloaded long, save_location string, category string\"\n",
    ")\n",
    "# Read in the Kinesis stream to a dataframe\n",
    "df_pin = read_stream('streaming-129a67850695-pin', schema)\n",
    "df_pin.limit(5).display()\n",
    "\n",
    "# Store as a Global Temporary View for use by the cleaning notebook\n",
    "df_pin.createOrReplaceGlobalTempView(\"gtv_129a67850695_stream_pin\")"
   ]
  },
  {
   "cell_type": "markdown",
   "metadata": {
    "application/vnd.databricks.v1+cell": {
     "cellMetadata": {},
     "inputWidgets": {},
     "nuid": "3c220808-c551-485f-aba2-287c3d59c856",
     "showTitle": false,
     "title": ""
    }
   },
   "source": [
    "## Clean the pin data"
   ]
  },
  {
   "cell_type": "code",
   "execution_count": 0,
   "metadata": {
    "application/vnd.databricks.v1+cell": {
     "cellMetadata": {},
     "inputWidgets": {},
     "nuid": "531a21f8-9947-4918-98a4-3b92d09da76c",
     "showTitle": false,
     "title": ""
    }
   },
   "outputs": [],
   "source": [
    "%run \"./Clean Pin Data\" $mode=\"Stream\""
   ]
  },
  {
   "cell_type": "markdown",
   "metadata": {
    "application/vnd.databricks.v1+cell": {
     "cellMetadata": {},
     "inputWidgets": {},
     "nuid": "9e27027f-e88b-4e89-b3b4-08ab61729693",
     "showTitle": false,
     "title": ""
    }
   },
   "source": [
    "## Save pin to a delta table"
   ]
  },
  {
   "cell_type": "code",
   "execution_count": 0,
   "metadata": {
    "application/vnd.databricks.v1+cell": {
     "cellMetadata": {},
     "inputWidgets": {},
     "nuid": "7df4ae38-a4bc-44df-aeb5-50f5b5b59596",
     "showTitle": false,
     "title": ""
    }
   },
   "outputs": [],
   "source": [
    "# Get the Global Temporary View from the cleaning notebook\n",
    "df_pin_clean = spark.table(\"global_temp.gtv_129a67850695_stream_pin_clean\")\n",
    "df_pin_clean.limit(5).display()\n",
    "\n",
    "# Write the cleaned dataframe to a Delta Table \n",
    "write_stream('129a67850695_pin_table', df_pin_clean)"
   ]
  },
  {
   "cell_type": "markdown",
   "metadata": {
    "application/vnd.databricks.v1+cell": {
     "cellMetadata": {},
     "inputWidgets": {},
     "nuid": "16460c5e-f971-4b4a-8409-e976dd010485",
     "showTitle": false,
     "title": ""
    }
   },
   "source": [
    "## Read the geo Kinesis stream"
   ]
  },
  {
   "cell_type": "code",
   "execution_count": 0,
   "metadata": {
    "application/vnd.databricks.v1+cell": {
     "cellMetadata": {},
     "inputWidgets": {},
     "nuid": "b4ac33cf-7456-46d6-b5cb-805a1a13917f",
     "showTitle": false,
     "title": ""
    }
   },
   "outputs": [],
   "source": [
    "# Define the structure of the array in the \"data\" column\n",
    "schema = (\"ind long, timestamp string, latitude double, longitude double, country string\")\n",
    "\n",
    "# Read in the Kinesis stream to a dataframe\n",
    "df_geo = read_stream('streaming-129a67850695-geo', schema)\n",
    "df_geo.limit(5).display()\n",
    "\n",
    "# Store as a Global Temporary View for use by the cleaning notebook\n",
    "df_geo.createOrReplaceGlobalTempView(\"gtv_129a67850695_stream_geo\")"
   ]
  },
  {
   "cell_type": "markdown",
   "metadata": {
    "application/vnd.databricks.v1+cell": {
     "cellMetadata": {},
     "inputWidgets": {},
     "nuid": "18030809-c762-4ffa-936c-a931bc8cf797",
     "showTitle": false,
     "title": ""
    }
   },
   "source": [
    "## Clean the geo data"
   ]
  },
  {
   "cell_type": "code",
   "execution_count": 0,
   "metadata": {
    "application/vnd.databricks.v1+cell": {
     "cellMetadata": {},
     "inputWidgets": {},
     "nuid": "927d6589-237a-4348-a13c-a1d9d6a0a68b",
     "showTitle": false,
     "title": ""
    }
   },
   "outputs": [],
   "source": [
    "%run \"./Clean Geo Data\" $mode=\"Stream\""
   ]
  },
  {
   "cell_type": "markdown",
   "metadata": {
    "application/vnd.databricks.v1+cell": {
     "cellMetadata": {},
     "inputWidgets": {},
     "nuid": "3d969c5f-f7fa-46f3-bba9-3b7f4baff030",
     "showTitle": false,
     "title": ""
    }
   },
   "source": [
    "## Save geo to a delta table"
   ]
  },
  {
   "cell_type": "code",
   "execution_count": 0,
   "metadata": {
    "application/vnd.databricks.v1+cell": {
     "cellMetadata": {},
     "inputWidgets": {},
     "nuid": "79c1945c-d9af-4e7d-accd-d9ddddddbcb6",
     "showTitle": false,
     "title": ""
    }
   },
   "outputs": [],
   "source": [
    "# Get the Global Temporary View from the cleaning notebook\n",
    "df_geo_clean = spark.table(\"global_temp.gtv_129a67850695_stream_geo_clean\")\n",
    "df_geo_clean.limit(5).display()\n",
    "\n",
    "# Write the cleaned dataframe to a Delta Table \n",
    "write_stream('129a67850695_geo_table', df_geo_clean)"
   ]
  },
  {
   "cell_type": "markdown",
   "metadata": {
    "application/vnd.databricks.v1+cell": {
     "cellMetadata": {},
     "inputWidgets": {},
     "nuid": "fb22973f-8364-451f-ae8b-64b6b333c995",
     "showTitle": false,
     "title": ""
    }
   },
   "source": [
    "## Read the user Kinesis stream"
   ]
  },
  {
   "cell_type": "code",
   "execution_count": 0,
   "metadata": {
    "application/vnd.databricks.v1+cell": {
     "cellMetadata": {},
     "inputWidgets": {},
     "nuid": "8946fbdb-f51c-4bfe-a011-922ded37d76c",
     "showTitle": false,
     "title": ""
    }
   },
   "outputs": [],
   "source": [
    "# Define the structure of the array in the \"data\" column\n",
    "schema = (\"ind long, first_name string, last_name string, age long, date_joined string\")\n",
    "\n",
    "# Read in the Kinesis stream to a dataframe\n",
    "df_user = read_stream('streaming-129a67850695-user', schema)\n",
    "df_user.limit(5).display()\n",
    "\n",
    "# Store as a Global Temporary View for use by the cleaning notebook\n",
    "df_user.createOrReplaceGlobalTempView(\"gtv_129a67850695_stream_user\")"
   ]
  },
  {
   "cell_type": "markdown",
   "metadata": {
    "application/vnd.databricks.v1+cell": {
     "cellMetadata": {},
     "inputWidgets": {},
     "nuid": "f8e9c62b-6395-48c0-ae18-1bd29157efb5",
     "showTitle": false,
     "title": ""
    }
   },
   "source": [
    "## Clean the user data"
   ]
  },
  {
   "cell_type": "code",
   "execution_count": 0,
   "metadata": {
    "application/vnd.databricks.v1+cell": {
     "cellMetadata": {},
     "inputWidgets": {},
     "nuid": "fc07b10f-2dd8-4d12-b8e9-c3cf36289b2a",
     "showTitle": false,
     "title": ""
    }
   },
   "outputs": [],
   "source": [
    "%run \"./Clean User Data\" $mode=\"Stream\""
   ]
  },
  {
   "cell_type": "markdown",
   "metadata": {
    "application/vnd.databricks.v1+cell": {
     "cellMetadata": {},
     "inputWidgets": {},
     "nuid": "efe16843-5c1e-4449-a7d1-a75db4090493",
     "showTitle": false,
     "title": ""
    }
   },
   "source": [
    "## Save user to a delta table"
   ]
  },
  {
   "cell_type": "code",
   "execution_count": 0,
   "metadata": {
    "application/vnd.databricks.v1+cell": {
     "cellMetadata": {},
     "inputWidgets": {},
     "nuid": "597e1ed9-c456-4435-9fa0-4601188d4deb",
     "showTitle": false,
     "title": ""
    }
   },
   "outputs": [],
   "source": [
    "# Get the Global Temporary View from the cleaning notebook\n",
    "df_user_clean = spark.table(\"global_temp.gtv_129a67850695_stream_user_clean\")\n",
    "df_user_clean.limit(5).display()\n",
    "\n",
    "# Write the cleaned dataframe to a Delta Table \n",
    "write_stream('129a67850695_user_table', df_user_clean)"
   ]
  }
 ],
 "metadata": {
  "application/vnd.databricks.v1+notebook": {
   "dashboards": [],
   "language": "python",
   "notebookMetadata": {
    "pythonIndentUnit": 4
   },
   "notebookName": "Kinesis Streaming",
   "widgets": {}
  }
 },
 "nbformat": 4,
 "nbformat_minor": 0
}
