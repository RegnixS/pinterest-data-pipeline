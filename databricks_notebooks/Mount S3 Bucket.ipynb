{
 "cells": [
  {
   "cell_type": "markdown",
   "metadata": {
    "application/vnd.databricks.v1+cell": {
     "cellMetadata": {},
     "inputWidgets": {},
     "nuid": "5d560fe4-5159-4752-9afa-d84cdd61b810",
     "showTitle": false,
     "title": ""
    }
   },
   "source": [
    "# Mount the S3 Bucket containing data from Kafka\n",
    "1. Get the AWS authentication key file \n",
    "2. Mount the S3 bucket\n",
    "3. Create 3 dataframes from the 3 locations in the mounted bucket\n",
    "4. Copy Dataframes to Global Temporary Views (This is done in the read_from_s3 function)\n"
   ]
  },
  {
   "cell_type": "markdown",
   "metadata": {
    "application/vnd.databricks.v1+cell": {
     "cellMetadata": {},
     "inputWidgets": {},
     "nuid": "bac5878e-796c-4ea3-8a13-2c15c63f24e6",
     "showTitle": false,
     "title": ""
    }
   },
   "source": [
    "## Get authentication File"
   ]
  },
  {
   "cell_type": "code",
   "execution_count": 0,
   "metadata": {
    "application/vnd.databricks.v1+cell": {
     "cellMetadata": {
      "byteLimit": 2048000,
      "rowLimit": 10000
     },
     "inputWidgets": {},
     "nuid": "6e8691b5-389b-49ac-9797-89eba0c4e76a",
     "showTitle": false,
     "title": ""
    }
   },
   "outputs": [],
   "source": [
    "%run \"./AWS Access Utils\""
   ]
  },
  {
   "cell_type": "markdown",
   "metadata": {
    "application/vnd.databricks.v1+cell": {
     "cellMetadata": {},
     "inputWidgets": {},
     "nuid": "31dbdbff-135b-492a-941b-2afd8b3c3f5d",
     "showTitle": false,
     "title": ""
    }
   },
   "source": [
    "## Mount the bucket"
   ]
  },
  {
   "cell_type": "code",
   "execution_count": 0,
   "metadata": {
    "application/vnd.databricks.v1+cell": {
     "cellMetadata": {
      "byteLimit": 2048000,
      "rowLimit": 10000
     },
     "inputWidgets": {},
     "nuid": "3d74bdc5-33b2-4f80-8156-7c2131c5c680",
     "showTitle": false,
     "title": ""
    }
   },
   "outputs": [],
   "source": [
    "# Mount name for the bucket\n",
    "MOUNT_NAME = \"/mnt/user-129a67850695-bucket\"\n",
    "# Source url\n",
    "SOURCE_URL = \"s3n://{0}:{1}@{2}\".format(ACCESS_KEY, ENCODED_SECRET_KEY, AWS_S3_BUCKET)\n",
    "# Mount the drive\n",
    "try:\n",
    "    dbutils.fs.mount(SOURCE_URL, MOUNT_NAME)\n",
    "except:\n",
    "# If error try unmounting it first\n",
    "    dbutils.fs.unmount(MOUNT_NAME)\n",
    "    dbutils.fs.mount(SOURCE_URL, MOUNT_NAME)\n",
    "\n",
    "display(dbutils.fs.ls(\"/mnt/user-129a67850695-bucket/\"))"
   ]
  },
  {
   "cell_type": "code",
   "execution_count": 0,
   "metadata": {
    "application/vnd.databricks.v1+cell": {
     "cellMetadata": {
      "byteLimit": 2048000,
      "rowLimit": 10000
     },
     "inputWidgets": {},
     "nuid": "3ac353c2-7e6e-4da4-ad86-83c7cb31257f",
     "showTitle": false,
     "title": ""
    }
   },
   "outputs": [],
   "source": [
    "# We need to turn off delta format check before trying to read the json files because of a change to Databricks configuration\n",
    "spark.conf.set(\"spark.databricks.delta.formatCheck.enabled\", False)"
   ]
  },
  {
   "cell_type": "markdown",
   "metadata": {
    "application/vnd.databricks.v1+cell": {
     "cellMetadata": {},
     "inputWidgets": {},
     "nuid": "cb2a4798-4d7c-4502-87a6-989337c7dec0",
     "showTitle": false,
     "title": ""
    }
   },
   "source": [
    "## Read pin data to a dataframe"
   ]
  },
  {
   "cell_type": "code",
   "execution_count": 0,
   "metadata": {
    "application/vnd.databricks.v1+cell": {
     "cellMetadata": {
      "byteLimit": 2048000,
      "rowLimit": 10000
     },
     "inputWidgets": {},
     "nuid": "2c1435cf-44cb-47e4-84d7-c9caa43a5fec",
     "showTitle": false,
     "title": ""
    }
   },
   "outputs": [],
   "source": [
    "# Read from S3\n",
    "read_from_s3(\"pin\", mount=True)"
   ]
  },
  {
   "cell_type": "markdown",
   "metadata": {
    "application/vnd.databricks.v1+cell": {
     "cellMetadata": {},
     "inputWidgets": {},
     "nuid": "b73e80cb-0aed-4608-8b24-fd30f569f86a",
     "showTitle": false,
     "title": ""
    }
   },
   "source": [
    "## Read geo data to a dataframe"
   ]
  },
  {
   "cell_type": "code",
   "execution_count": 0,
   "metadata": {
    "application/vnd.databricks.v1+cell": {
     "cellMetadata": {
      "byteLimit": 2048000,
      "rowLimit": 10000
     },
     "inputWidgets": {},
     "nuid": "61a8ea57-a280-4658-9224-eb5766db4d12",
     "showTitle": false,
     "title": ""
    }
   },
   "outputs": [],
   "source": [
    "# Read from S3\n",
    "read_from_s3(\"geo\", mount=True)"
   ]
  },
  {
   "cell_type": "markdown",
   "metadata": {
    "application/vnd.databricks.v1+cell": {
     "cellMetadata": {},
     "inputWidgets": {},
     "nuid": "92f0b39b-4a3f-4840-932e-1e347057a2fb",
     "showTitle": false,
     "title": ""
    }
   },
   "source": [
    "## Read user data to a dataframe"
   ]
  },
  {
   "cell_type": "code",
   "execution_count": 0,
   "metadata": {
    "application/vnd.databricks.v1+cell": {
     "cellMetadata": {
      "byteLimit": 2048000,
      "rowLimit": 10000
     },
     "inputWidgets": {},
     "nuid": "07b5c160-24fc-45e5-bf6c-40c769b92642",
     "showTitle": false,
     "title": ""
    }
   },
   "outputs": [],
   "source": [
    "# Read from S3\n",
    "read_from_s3(\"user\", mount=True)"
   ]
  }
 ],
 "metadata": {
  "application/vnd.databricks.v1+notebook": {
   "dashboards": [],
   "language": "python",
   "notebookMetadata": {
    "pythonIndentUnit": 4
   },
   "notebookName": "Mount S3 Bucket",
   "widgets": {}
  }
 },
 "nbformat": 4,
 "nbformat_minor": 0
}
