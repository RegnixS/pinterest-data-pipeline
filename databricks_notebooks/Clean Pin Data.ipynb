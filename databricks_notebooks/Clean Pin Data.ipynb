{
 "cells": [
  {
   "cell_type": "markdown",
   "metadata": {
    "application/vnd.databricks.v1+cell": {
     "cellMetadata": {
      "byteLimit": 2048000,
      "rowLimit": 10000
     },
     "inputWidgets": {},
     "nuid": "b40b4ec8-5c67-4876-abf4-c3787bfb1649",
     "showTitle": false,
     "title": ""
    }
   },
   "source": [
    "# Clean the Pin Data \n",
    "1. Initialize and drop duplicates\n",
    "2. Replace entries with no relevant data in each column with nulls\n",
    "3. Perform the necessary transformations on the follower_count to ensure every entry is a number and the data type of this column is integer\n",
    "5. Clean the data in the save_location column to include only the save location path\n",
    "6. Rename the index column to ind\n",
    "7. Reorder the dataframe\n",
    "8. Copy cleaned data to Global Temporary View"
   ]
  },
  {
   "cell_type": "markdown",
   "metadata": {
    "application/vnd.databricks.v1+cell": {
     "cellMetadata": {
      "byteLimit": 2048000,
      "rowLimit": 10000
     },
     "inputWidgets": {},
     "nuid": "a075788a-88c7-438b-a0e6-d1e2b0ef6678",
     "showTitle": false,
     "title": ""
    }
   },
   "source": [
    "## Initialize notebook and drop duplicates"
   ]
  },
  {
   "cell_type": "code",
   "execution_count": 0,
   "metadata": {
    "application/vnd.databricks.v1+cell": {
     "cellMetadata": {
      "byteLimit": 2048000,
      "rowLimit": 10000
     },
     "inputWidgets": {},
     "nuid": "b1121384-40bf-47e0-953a-dcb76b3a1090",
     "showTitle": false,
     "title": ""
    }
   },
   "outputs": [],
   "source": [
    "%run \"./Cleaning Utils\""
   ]
  },
  {
   "cell_type": "code",
   "execution_count": 0,
   "metadata": {
    "application/vnd.databricks.v1+cell": {
     "cellMetadata": {
      "byteLimit": 2048000,
      "rowLimit": 10000
     },
     "inputWidgets": {},
     "nuid": "8c6ffe0d-5c0b-40d9-9cfd-2913d86b2d20",
     "showTitle": false,
     "title": ""
    }
   },
   "outputs": [],
   "source": [
    "# Initalize using function\n",
    "df_pin_clean = init_cleaner(\"pin\")"
   ]
  },
  {
   "cell_type": "markdown",
   "metadata": {
    "application/vnd.databricks.v1+cell": {
     "cellMetadata": {
      "byteLimit": 2048000,
      "rowLimit": 10000
     },
     "inputWidgets": {},
     "nuid": "f4adf08a-a44b-41ba-bdeb-7d82a2eeab6b",
     "showTitle": false,
     "title": ""
    }
   },
   "source": [
    "## Replace irrelevant column data with nulls"
   ]
  },
  {
   "cell_type": "code",
   "execution_count": 0,
   "metadata": {
    "application/vnd.databricks.v1+cell": {
     "cellMetadata": {
      "byteLimit": 2048000,
      "rowLimit": 10000
     },
     "inputWidgets": {},
     "nuid": "9c106f84-339e-4ae5-9ee6-6f9048316a12",
     "showTitle": false,
     "title": ""
    }
   },
   "outputs": [],
   "source": [
    "list_values_to_replace = [\"No description available Story format\"\n",
    "                          , \"User Info Error\"\n",
    "                          , \"Image src error.\"\n",
    "                          , \"N,o, ,T,a,g,s, ,A,v,a,i,l,a,b,l,e\"\n",
    "                          , \"No Title Data Available\"\n",
    "                          ]\n",
    "list_of_columns = [\"description\"\n",
    "                   , \"follower_count\"\n",
    "                   , \"image_src\"\n",
    "                   , \"poster_name\"\n",
    "                   , \"tag_list\"\n",
    "                   , \"title\"\n",
    "                   ]\n",
    "\n",
    "# Replace values in selected columns with null\n",
    "df_pin_clean = df_pin_clean.replace(list_values_to_replace, None, subset=list_of_columns)"
   ]
  },
  {
   "cell_type": "markdown",
   "metadata": {
    "application/vnd.databricks.v1+cell": {
     "cellMetadata": {
      "byteLimit": 2048000,
      "rowLimit": 10000
     },
     "inputWidgets": {},
     "nuid": "f5af9b2b-f187-4f4f-b3f5-38b402654a75",
     "showTitle": false,
     "title": ""
    }
   },
   "source": [
    "## Convert follower_count to integer"
   ]
  },
  {
   "cell_type": "code",
   "execution_count": 0,
   "metadata": {
    "application/vnd.databricks.v1+cell": {
     "cellMetadata": {
      "byteLimit": 2048000,
      "rowLimit": 10000
     },
     "inputWidgets": {},
     "nuid": "d72f681c-02d6-478b-8b53-d63e6474d178",
     "showTitle": false,
     "title": ""
    }
   },
   "outputs": [],
   "source": [
    "from pyspark.sql.functions import regexp_replace\n",
    "dict_values_to_replace = {\"k\": \"000\", \"M\": \"000000\"} \n",
    "\n",
    "# Replace values in follower_count based on dictionary\n",
    "for value, replace in dict_values_to_replace.items():\n",
    "    df_pin_clean = df_pin_clean.withColumn(\"follower_count\", regexp_replace(\"follower_count\", value, replace))\n",
    "\n",
    "# Convert to integer\n",
    "df_pin_clean = df_pin_clean.withColumn(\"follower_count\", df_pin_clean[\"follower_count\"].cast(\"int\"))"
   ]
  },
  {
   "cell_type": "markdown",
   "metadata": {
    "application/vnd.databricks.v1+cell": {
     "cellMetadata": {
      "byteLimit": 2048000,
      "rowLimit": 10000
     },
     "inputWidgets": {},
     "nuid": "88cbbc0b-bd75-434d-b334-b636324f81a3",
     "showTitle": false,
     "title": ""
    }
   },
   "source": [
    "## Clean data in save_location"
   ]
  },
  {
   "cell_type": "code",
   "execution_count": 0,
   "metadata": {
    "application/vnd.databricks.v1+cell": {
     "cellMetadata": {
      "byteLimit": 2048000,
      "rowLimit": 10000
     },
     "inputWidgets": {},
     "nuid": "67c43338-26e7-4509-968e-901d15d18189",
     "showTitle": false,
     "title": ""
    }
   },
   "outputs": [],
   "source": [
    "df_pin_clean = df_pin_clean.withColumn(\"save_location\", regexp_replace(\"save_location\", \"Local save in \", \"\"))"
   ]
  },
  {
   "cell_type": "markdown",
   "metadata": {
    "application/vnd.databricks.v1+cell": {
     "cellMetadata": {
      "byteLimit": 2048000,
      "rowLimit": 10000
     },
     "inputWidgets": {},
     "nuid": "da1ad362-1936-48f3-a647-4fce1b5d1fba",
     "showTitle": false,
     "title": ""
    }
   },
   "source": [
    "## Rename index to ind"
   ]
  },
  {
   "cell_type": "code",
   "execution_count": 0,
   "metadata": {
    "application/vnd.databricks.v1+cell": {
     "cellMetadata": {
      "byteLimit": 2048000,
      "rowLimit": 10000
     },
     "inputWidgets": {},
     "nuid": "a8ecd91a-0257-48cf-84f1-8c3755456c08",
     "showTitle": false,
     "title": ""
    }
   },
   "outputs": [],
   "source": [
    "df_pin_clean = df_pin_clean.withColumnRenamed(\"index\", \"ind\")"
   ]
  },
  {
   "cell_type": "markdown",
   "metadata": {
    "application/vnd.databricks.v1+cell": {
     "cellMetadata": {
      "byteLimit": 2048000,
      "rowLimit": 10000
     },
     "inputWidgets": {},
     "nuid": "20ac4977-86d0-4336-a22a-b64928dd21f4",
     "showTitle": false,
     "title": ""
    }
   },
   "source": [
    "## Reorder columns"
   ]
  },
  {
   "cell_type": "code",
   "execution_count": 0,
   "metadata": {
    "application/vnd.databricks.v1+cell": {
     "cellMetadata": {
      "byteLimit": 2048000,
      "rowLimit": 10000
     },
     "inputWidgets": {},
     "nuid": "303fdb38-273d-4d76-bd20-79d7ed3e1a9b",
     "showTitle": false,
     "title": ""
    }
   },
   "outputs": [],
   "source": [
    "df_pin_clean = df_pin_clean.select(\"ind\", \"unique_id\", \"title\", \"description\", \"follower_count\", \"poster_name\", \"tag_list\", \"is_image_or_video\", \"image_src\", \"save_location\", \"category\")\n",
    "df_pin_clean.limit(5).display()"
   ]
  },
  {
   "cell_type": "markdown",
   "metadata": {
    "application/vnd.databricks.v1+cell": {
     "cellMetadata": {
      "byteLimit": 2048000,
      "rowLimit": 10000
     },
     "inputWidgets": {},
     "nuid": "c954bd8f-9412-4934-b87f-6ab9440a25fe",
     "showTitle": false,
     "title": ""
    }
   },
   "source": [
    "## Copy cleaned dataframe to global temporary table"
   ]
  },
  {
   "cell_type": "code",
   "execution_count": 0,
   "metadata": {
    "application/vnd.databricks.v1+cell": {
     "cellMetadata": {
      "byteLimit": 2048000,
      "rowLimit": 10000
     },
     "inputWidgets": {},
     "nuid": "43c20d9d-8ed0-45f5-b274-87cd532420ef",
     "showTitle": false,
     "title": ""
    }
   },
   "outputs": [],
   "source": [
    "# Copy to global temporary view\n",
    "copy_to_gtv(df_pin_clean, \"pin\")"
   ]
  }
 ],
 "metadata": {
  "application/vnd.databricks.v1+notebook": {
   "dashboards": [],
   "language": "python",
   "notebookMetadata": {
    "pythonIndentUnit": 4,
    "widgetLayout": []
   },
   "notebookName": "Clean Pin Data",
   "widgets": {
    "mode": {
     "currentValue": "Batch",
     "nuid": "38a4b4e7-4fba-40bf-865c-2ab7ee81a71b",
     "widgetInfo": {
      "widgetType": "dropdown",
      "defaultValue": "Batch",
      "label": null,
      "name": "mode",
      "options": {
       "widgetType": "dropdown",
       "autoCreated": null,
       "choices": [
        "Batch"
       ]
      }
     }
    }
   }
  }
 },
 "nbformat": 4,
 "nbformat_minor": 0
}
