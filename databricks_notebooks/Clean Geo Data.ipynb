{
 "cells": [
  {
   "cell_type": "markdown",
   "metadata": {
    "application/vnd.databricks.v1+cell": {
     "cellMetadata": {
      "byteLimit": 2048000,
      "rowLimit": 10000
     },
     "inputWidgets": {},
     "nuid": "3a58f445-8d0d-4fae-84b2-b569e2f1dfef",
     "showTitle": false,
     "title": ""
    }
   },
   "source": [
    "# Clean the Geo Data \n",
    "1. Initialize and drop duplicates\n",
    "2. Create new coordinates column based on latitiude and longtitude\n",
    "3. Drop latitude and longtitude\n",
    "5. Convert timestamp to timestamp data type\n",
    "6. Reorder the dataframe\n",
    "7. Copy Cleaned Data to Global Temporary View"
   ]
  },
  {
   "cell_type": "markdown",
   "metadata": {
    "application/vnd.databricks.v1+cell": {
     "cellMetadata": {
      "byteLimit": 2048000,
      "rowLimit": 10000
     },
     "inputWidgets": {},
     "nuid": "77973a68-ec1b-42e2-b272-7387273fa188",
     "showTitle": false,
     "title": ""
    }
   },
   "source": [
    "## Initialize notebook and drop duplicates"
   ]
  },
  {
   "cell_type": "code",
   "execution_count": 0,
   "metadata": {
    "application/vnd.databricks.v1+cell": {
     "cellMetadata": {
      "byteLimit": 2048000,
      "rowLimit": 10000
     },
     "inputWidgets": {},
     "nuid": "921d8651-c7bf-4e98-8b53-ee865846be78",
     "showTitle": false,
     "title": ""
    }
   },
   "outputs": [],
   "source": [
    "%run \"./Initialize Cleaning Notebooks\""
   ]
  },
  {
   "cell_type": "code",
   "execution_count": 0,
   "metadata": {
    "application/vnd.databricks.v1+cell": {
     "cellMetadata": {
      "byteLimit": 2048000,
      "rowLimit": 10000
     },
     "inputWidgets": {},
     "nuid": "a2a7e82d-8b7b-4f65-a487-f966ccd63856",
     "showTitle": false,
     "title": ""
    }
   },
   "outputs": [],
   "source": [
    "# Initalize using function\n",
    "df_geo_clean = init_cleaner(\"geo\")"
   ]
  },
  {
   "cell_type": "markdown",
   "metadata": {
    "application/vnd.databricks.v1+cell": {
     "cellMetadata": {
      "byteLimit": 2048000,
      "rowLimit": 10000
     },
     "inputWidgets": {},
     "nuid": "08bae6c8-520e-465c-9e12-9d2616ecd95c",
     "showTitle": false,
     "title": ""
    }
   },
   "source": [
    "## Create array column coordinates using latitude and longtitude"
   ]
  },
  {
   "cell_type": "code",
   "execution_count": 0,
   "metadata": {
    "application/vnd.databricks.v1+cell": {
     "cellMetadata": {
      "byteLimit": 2048000,
      "rowLimit": 10000
     },
     "inputWidgets": {},
     "nuid": "09acecb9-1be0-4f2b-8722-612c412e43b8",
     "showTitle": false,
     "title": ""
    }
   },
   "outputs": [],
   "source": [
    "from pyspark.sql.functions import array\n",
    "df_geo_clean = df_geo_clean.withColumn(\"coordinates\", array(\"latitude\", \"longitude\"))"
   ]
  },
  {
   "cell_type": "markdown",
   "metadata": {
    "application/vnd.databricks.v1+cell": {
     "cellMetadata": {
      "byteLimit": 2048000,
      "rowLimit": 10000
     },
     "inputWidgets": {},
     "nuid": "0cc84f2c-cafd-48bc-b224-dceaae5499d2",
     "showTitle": false,
     "title": ""
    }
   },
   "source": [
    "## Drop columns latitude and longitude"
   ]
  },
  {
   "cell_type": "code",
   "execution_count": 0,
   "metadata": {
    "application/vnd.databricks.v1+cell": {
     "cellMetadata": {
      "byteLimit": 2048000,
      "rowLimit": 10000
     },
     "inputWidgets": {},
     "nuid": "4b1cb53f-b6e7-4e8f-a08b-54fa35dd4a4a",
     "showTitle": false,
     "title": ""
    }
   },
   "outputs": [],
   "source": [
    "df_geo_clean = df_geo_clean.drop(\"latitude\", \"longitude\")"
   ]
  },
  {
   "cell_type": "markdown",
   "metadata": {
    "application/vnd.databricks.v1+cell": {
     "cellMetadata": {
      "byteLimit": 2048000,
      "rowLimit": 10000
     },
     "inputWidgets": {},
     "nuid": "a65e8240-d1cb-4e4a-92a1-eb29085f9fda",
     "showTitle": false,
     "title": ""
    }
   },
   "source": [
    "## Convert timestamp to timestamp data type"
   ]
  },
  {
   "cell_type": "code",
   "execution_count": 0,
   "metadata": {
    "application/vnd.databricks.v1+cell": {
     "cellMetadata": {
      "byteLimit": 2048000,
      "rowLimit": 10000
     },
     "inputWidgets": {},
     "nuid": "7f2b2286-ea59-4f1b-97ce-debe0d2b6ca6",
     "showTitle": false,
     "title": ""
    }
   },
   "outputs": [],
   "source": [
    "from pyspark.sql.functions import to_timestamp\n",
    "df_geo_clean = df_geo_clean.withColumn(\"timestamp\", to_timestamp(\"timestamp\"))"
   ]
  },
  {
   "cell_type": "markdown",
   "metadata": {
    "application/vnd.databricks.v1+cell": {
     "cellMetadata": {
      "byteLimit": 2048000,
      "rowLimit": 10000
     },
     "inputWidgets": {},
     "nuid": "7330303c-b826-49ec-a395-44cd4b4d412f",
     "showTitle": false,
     "title": ""
    }
   },
   "source": [
    "## Reorder columns"
   ]
  },
  {
   "cell_type": "code",
   "execution_count": 0,
   "metadata": {
    "application/vnd.databricks.v1+cell": {
     "cellMetadata": {
      "byteLimit": 2048000,
      "rowLimit": 10000
     },
     "inputWidgets": {},
     "nuid": "ac953a41-3113-4e0d-b8fe-13fd59e35464",
     "showTitle": false,
     "title": ""
    }
   },
   "outputs": [],
   "source": [
    "df_geo_clean = df_geo_clean.select(\"ind\", \"country\", \"coordinates\", \"timestamp\")\n",
    "df_geo_clean.limit(5).display()"
   ]
  },
  {
   "cell_type": "markdown",
   "metadata": {
    "application/vnd.databricks.v1+cell": {
     "cellMetadata": {
      "byteLimit": 2048000,
      "rowLimit": 10000
     },
     "inputWidgets": {},
     "nuid": "05244450-0260-47de-a4ee-7f18cc5a1943",
     "showTitle": false,
     "title": ""
    }
   },
   "source": [
    "## Copy cleaned dataframe to global temporary table"
   ]
  },
  {
   "cell_type": "code",
   "execution_count": 0,
   "metadata": {
    "application/vnd.databricks.v1+cell": {
     "cellMetadata": {
      "byteLimit": 2048000,
      "rowLimit": 10000
     },
     "inputWidgets": {},
     "nuid": "2ffaa336-885b-455d-b563-e43954c0fd6e",
     "showTitle": false,
     "title": ""
    }
   },
   "outputs": [],
   "source": [
    "# If \"Batch\" or \"Stream\" mode, use appropriate temp view\n",
    "if (dbutils.widgets.get(\"mode\") == \"Batch\"):\n",
    "    df_geo_clean.createOrReplaceGlobalTempView(\"gtv_129a67850695_geo_clean\")\n",
    "elif(dbutils.widgets.get(\"mode\") == \"Stream\"):\n",
    "    df_geo_clean.createOrReplaceGlobalTempView(\"gtv_129a67850695_stream_geo_clean\")\n",
    "print(\"Global Temp View created for \" + dbutils.widgets.get(\"mode\") + \" mode.\")"
   ]
  }
 ],
 "metadata": {
  "application/vnd.databricks.v1+notebook": {
   "dashboards": [],
   "language": "python",
   "notebookMetadata": {
    "pythonIndentUnit": 4
   },
   "notebookName": "Clean Geo Data",
   "widgets": {
    "mode": {
     "currentValue": "Batch",
     "nuid": "5e2d9eb4-ec8e-4bad-aab3-c7f27db6e8e4",
     "widgetInfo": {
      "widgetType": "dropdown",
      "defaultValue": "Batch",
      "label": null,
      "name": "mode",
      "options": {
       "widgetType": "dropdown",
       "autoCreated": null,
       "choices": [
        "Batch"
       ]
      }
     }
    }
   }
  }
 },
 "nbformat": 4,
 "nbformat_minor": 0
}
