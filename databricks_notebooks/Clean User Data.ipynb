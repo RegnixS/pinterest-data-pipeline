{
 "cells": [
  {
   "cell_type": "markdown",
   "metadata": {
    "application/vnd.databricks.v1+cell": {
     "cellMetadata": {
      "byteLimit": 2048000,
      "rowLimit": 10000
     },
     "inputWidgets": {},
     "nuid": "c1b67d2f-2419-4360-9f89-8ce2047fec66",
     "showTitle": false,
     "title": ""
    }
   },
   "source": [
    "# Clean the User Data \n",
    "1. Initialize and drop duplicates\n",
    "2. Combine first and last names\n",
    "3. Drop first_name and last_name\n",
    "4. Convert date_joined to timestamp data type\n",
    "5. Reorder the dataframe\n",
    "6. Copy Cleaned Data to Global Temporary View"
   ]
  },
  {
   "cell_type": "markdown",
   "metadata": {
    "application/vnd.databricks.v1+cell": {
     "cellMetadata": {
      "byteLimit": 2048000,
      "rowLimit": 10000
     },
     "inputWidgets": {},
     "nuid": "7eb569ed-588e-46b2-b5d3-6a8bd49e363d",
     "showTitle": false,
     "title": ""
    }
   },
   "source": [
    "## Initialize notebook and drop duplicates"
   ]
  },
  {
   "cell_type": "code",
   "execution_count": 0,
   "metadata": {
    "application/vnd.databricks.v1+cell": {
     "cellMetadata": {
      "byteLimit": 2048000,
      "rowLimit": 10000
     },
     "inputWidgets": {},
     "nuid": "d175d116-51db-4ca6-b441-cca67034e95f",
     "showTitle": false,
     "title": ""
    }
   },
   "outputs": [],
   "source": [
    "%run \"./Initialize Cleaning Notebooks\""
   ]
  },
  {
   "cell_type": "code",
   "execution_count": 0,
   "metadata": {
    "application/vnd.databricks.v1+cell": {
     "cellMetadata": {
      "byteLimit": 2048000,
      "rowLimit": 10000
     },
     "inputWidgets": {},
     "nuid": "d74dc685-8a87-425f-891e-8d3969920771",
     "showTitle": false,
     "title": ""
    }
   },
   "outputs": [],
   "source": [
    "# Initalize using function\n",
    "df_user_clean = init_cleaner(\"user\")"
   ]
  },
  {
   "cell_type": "markdown",
   "metadata": {
    "application/vnd.databricks.v1+cell": {
     "cellMetadata": {
      "byteLimit": 2048000,
      "rowLimit": 10000
     },
     "inputWidgets": {},
     "nuid": "007c2879-d0b5-419b-a4cc-67b89299fd94",
     "showTitle": false,
     "title": ""
    }
   },
   "source": [
    "## Combine first and last names"
   ]
  },
  {
   "cell_type": "code",
   "execution_count": 0,
   "metadata": {
    "application/vnd.databricks.v1+cell": {
     "cellMetadata": {
      "byteLimit": 2048000,
      "rowLimit": 10000
     },
     "inputWidgets": {},
     "nuid": "0100120a-011f-4f25-8342-8375252affdd",
     "showTitle": false,
     "title": ""
    }
   },
   "outputs": [],
   "source": [
    "from pyspark.sql.functions import concat, lit\n",
    "df_user_clean = df_user_clean.withColumn(\"user_name\", concat(\"first_name\", lit(\" \"), \"last_name\"))"
   ]
  },
  {
   "cell_type": "markdown",
   "metadata": {
    "application/vnd.databricks.v1+cell": {
     "cellMetadata": {
      "byteLimit": 2048000,
      "rowLimit": 10000
     },
     "inputWidgets": {},
     "nuid": "15dc841f-a985-4990-a26a-66aa942a0ef7",
     "showTitle": false,
     "title": ""
    }
   },
   "source": [
    "## Drop columns first_name and last_name"
   ]
  },
  {
   "cell_type": "code",
   "execution_count": 0,
   "metadata": {
    "application/vnd.databricks.v1+cell": {
     "cellMetadata": {
      "byteLimit": 2048000,
      "rowLimit": 10000
     },
     "inputWidgets": {},
     "nuid": "8fd59e00-c637-43fb-b902-bf172ad14f5b",
     "showTitle": false,
     "title": ""
    }
   },
   "outputs": [],
   "source": [
    "df_user_clean = df_user_clean.drop(\"first_name\", \"last_name\")"
   ]
  },
  {
   "cell_type": "markdown",
   "metadata": {
    "application/vnd.databricks.v1+cell": {
     "cellMetadata": {
      "byteLimit": 2048000,
      "rowLimit": 10000
     },
     "inputWidgets": {},
     "nuid": "f410a83e-356b-47cc-be7f-9312d9473db5",
     "showTitle": false,
     "title": ""
    }
   },
   "source": [
    "## Convert date_joined to timestamp data type"
   ]
  },
  {
   "cell_type": "code",
   "execution_count": 0,
   "metadata": {
    "application/vnd.databricks.v1+cell": {
     "cellMetadata": {
      "byteLimit": 2048000,
      "rowLimit": 10000
     },
     "inputWidgets": {},
     "nuid": "dee5962b-d684-4b81-b69b-c21660430106",
     "showTitle": false,
     "title": ""
    }
   },
   "outputs": [],
   "source": [
    "from pyspark.sql.functions import to_timestamp\n",
    "df_user_clean = df_user_clean.withColumn(\"date_joined\", to_timestamp(\"date_joined\"))"
   ]
  },
  {
   "cell_type": "markdown",
   "metadata": {
    "application/vnd.databricks.v1+cell": {
     "cellMetadata": {
      "byteLimit": 2048000,
      "rowLimit": 10000
     },
     "inputWidgets": {},
     "nuid": "99c5d8d1-b8d6-45a3-974b-0f155322cb34",
     "showTitle": false,
     "title": ""
    }
   },
   "source": [
    "## Reorder columns"
   ]
  },
  {
   "cell_type": "code",
   "execution_count": 0,
   "metadata": {
    "application/vnd.databricks.v1+cell": {
     "cellMetadata": {
      "byteLimit": 2048000,
      "rowLimit": 10000
     },
     "inputWidgets": {},
     "nuid": "cc783cf0-4b02-49f9-adcc-9a4604ecfb55",
     "showTitle": false,
     "title": ""
    }
   },
   "outputs": [],
   "source": [
    "df_user_clean = df_user_clean.select(\"ind\", \"age\", \"user_name\", \"date_joined\")\n",
    "df_user_clean.limit(5).display()"
   ]
  },
  {
   "cell_type": "markdown",
   "metadata": {
    "application/vnd.databricks.v1+cell": {
     "cellMetadata": {
      "byteLimit": 2048000,
      "rowLimit": 10000
     },
     "inputWidgets": {},
     "nuid": "7fb418d9-c0d0-4775-8466-004da84353bc",
     "showTitle": false,
     "title": ""
    }
   },
   "source": [
    "## Copy cleaned dataframe to global temporary table"
   ]
  },
  {
   "cell_type": "code",
   "execution_count": 0,
   "metadata": {
    "application/vnd.databricks.v1+cell": {
     "cellMetadata": {
      "byteLimit": 2048000,
      "rowLimit": 10000
     },
     "inputWidgets": {},
     "nuid": "77526674-26e5-4c29-b8a7-fa01d3907467",
     "showTitle": false,
     "title": ""
    }
   },
   "outputs": [],
   "source": [
    "# If \"Batch\" or \"Stream\" mode, use appropriate temp view\n",
    "if (dbutils.widgets.get(\"mode\") == \"Batch\"):\n",
    "    df_user_clean.createOrReplaceGlobalTempView(\"gtv_129a67850695_user_clean\")\n",
    "elif(dbutils.widgets.get(\"mode\") == \"Stream\"):\n",
    "    df_user_clean.createOrReplaceGlobalTempView(\"gtv_129a67850695_stream_user_clean\")\n",
    "print(\"Global Temp View created for \" + dbutils.widgets.get(\"mode\") + \" mode.\")"
   ]
  }
 ],
 "metadata": {
  "application/vnd.databricks.v1+notebook": {
   "dashboards": [],
   "language": "python",
   "notebookMetadata": {
    "pythonIndentUnit": 4
   },
   "notebookName": "Clean User Data",
   "widgets": {
    "mode": {
     "currentValue": "Batch",
     "nuid": "15d2b198-1a6f-4efa-af17-6ee6f70f6c15",
     "widgetInfo": {
      "widgetType": "dropdown",
      "defaultValue": "Batch",
      "label": null,
      "name": "mode",
      "options": {
       "widgetType": "dropdown",
       "autoCreated": null,
       "choices": [
        "Batch"
       ]
      }
     }
    }
   }
  }
 },
 "nbformat": 4,
 "nbformat_minor": 0
}
