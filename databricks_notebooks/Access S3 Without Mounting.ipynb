{
 "cells": [
  {
   "cell_type": "markdown",
   "metadata": {
    "application/vnd.databricks.v1+cell": {
     "cellMetadata": {
      "byteLimit": 2048000,
      "rowLimit": 10000
     },
     "inputWidgets": {},
     "nuid": "470d0fa1-1e97-4f5c-af66-7b39e59efc0f",
     "showTitle": false,
     "title": ""
    }
   },
   "source": [
    "# Access the S3 Bucket containing data from Kafka \n",
    "Because accessing S3 Buckets using Databricks filesystem mounts has been deprecated, this notebook implements the same functionality without creating a mount point. [See link.](https://docs.databricks.com/en/connect/storage/amazon-s3.html#deprecated-patterns-for-storing-and-accessing-data-from-databricks) \n",
    "1. Get the AWS authentication key file\n",
    "2. Create 3 dataframes from the 3 locations in the bucket\n",
    "3. Copy Dataframes to Global Temporary Views"
   ]
  },
  {
   "cell_type": "markdown",
   "metadata": {
    "application/vnd.databricks.v1+cell": {
     "cellMetadata": {
      "byteLimit": 2048000,
      "rowLimit": 10000
     },
     "inputWidgets": {},
     "nuid": "56928484-69d6-43cb-999f-58ec4d46fb2c",
     "showTitle": false,
     "title": ""
    }
   },
   "source": [
    "## Get authentication File"
   ]
  },
  {
   "cell_type": "code",
   "execution_count": 0,
   "metadata": {
    "application/vnd.databricks.v1+cell": {
     "cellMetadata": {
      "byteLimit": 2048000,
      "rowLimit": 10000
     },
     "inputWidgets": {},
     "nuid": "bc105bce-d536-4173-a924-539d58ba8ad9",
     "showTitle": false,
     "title": ""
    }
   },
   "outputs": [],
   "source": [
    "%run \"./AWS Access Utils\""
   ]
  },
  {
   "cell_type": "markdown",
   "metadata": {
    "application/vnd.databricks.v1+cell": {
     "cellMetadata": {
      "byteLimit": 2048000,
      "rowLimit": 10000
     },
     "inputWidgets": {},
     "nuid": "a0aaff90-4c02-43e9-8e5f-740b87836d68",
     "showTitle": false,
     "title": ""
    }
   },
   "source": [
    "## Read pin data to a dataframe"
   ]
  },
  {
   "cell_type": "code",
   "execution_count": 0,
   "metadata": {
    "application/vnd.databricks.v1+cell": {
     "cellMetadata": {
      "byteLimit": 2048000,
      "rowLimit": 10000
     },
     "inputWidgets": {},
     "nuid": "b0970ac5-14c6-4ac2-a93a-abea49821d42",
     "showTitle": false,
     "title": ""
    }
   },
   "outputs": [],
   "source": [
    "# Read from S3\n",
    "df_pin = read_from_S3(\"pin\")"
   ]
  },
  {
   "cell_type": "markdown",
   "metadata": {
    "application/vnd.databricks.v1+cell": {
     "cellMetadata": {
      "byteLimit": 2048000,
      "rowLimit": 10000
     },
     "inputWidgets": {},
     "nuid": "1114f0b6-e074-4dcc-9257-24a8aaa80f15",
     "showTitle": false,
     "title": ""
    }
   },
   "source": [
    "## Read geo data to a dataframe"
   ]
  },
  {
   "cell_type": "code",
   "execution_count": 0,
   "metadata": {
    "application/vnd.databricks.v1+cell": {
     "cellMetadata": {
      "byteLimit": 2048000,
      "rowLimit": 10000
     },
     "inputWidgets": {},
     "nuid": "15518199-61d0-42ff-849a-cf78d095c33d",
     "showTitle": false,
     "title": ""
    }
   },
   "outputs": [],
   "source": [
    "# Read from S3\n",
    "df_geo = read_from_S3(\"geo\")"
   ]
  },
  {
   "cell_type": "markdown",
   "metadata": {
    "application/vnd.databricks.v1+cell": {
     "cellMetadata": {
      "byteLimit": 2048000,
      "rowLimit": 10000
     },
     "inputWidgets": {},
     "nuid": "5de2e916-c23f-428e-af43-98ce7b1cbc23",
     "showTitle": false,
     "title": ""
    }
   },
   "source": [
    "## Read user data to a dataframe"
   ]
  },
  {
   "cell_type": "code",
   "execution_count": 0,
   "metadata": {
    "application/vnd.databricks.v1+cell": {
     "cellMetadata": {
      "byteLimit": 2048000,
      "rowLimit": 10000
     },
     "inputWidgets": {},
     "nuid": "95a8b368-9720-4a7c-bca2-0a087b4f0ebf",
     "showTitle": false,
     "title": ""
    }
   },
   "outputs": [],
   "source": [
    "# Read from S3\n",
    "df_user = read_from_S3(\"user\")"
   ]
  },
  {
   "cell_type": "markdown",
   "metadata": {
    "application/vnd.databricks.v1+cell": {
     "cellMetadata": {
      "byteLimit": 2048000,
      "rowLimit": 10000
     },
     "inputWidgets": {},
     "nuid": "d6cc64b5-72ea-473e-a344-15729c2241a7",
     "showTitle": false,
     "title": ""
    }
   },
   "source": [
    "## Copy dataframes to global temporary views"
   ]
  },
  {
   "cell_type": "code",
   "execution_count": 0,
   "metadata": {
    "application/vnd.databricks.v1+cell": {
     "cellMetadata": {
      "byteLimit": 2048000,
      "rowLimit": 10000
     },
     "inputWidgets": {},
     "nuid": "5717d20f-c64a-4324-947a-d0e3f1eadedd",
     "showTitle": false,
     "title": ""
    }
   },
   "outputs": [],
   "source": [
    "df_pin.createOrReplaceGlobalTempView(\"gtv_129a67850695_pin\")\n",
    "df_geo.createOrReplaceGlobalTempView(\"gtv_129a67850695_geo\")\n",
    "df_user.createOrReplaceGlobalTempView(\"gtv_129a67850695_user\")"
   ]
  }
 ],
 "metadata": {
  "application/vnd.databricks.v1+notebook": {
   "dashboards": [],
   "language": "python",
   "notebookMetadata": {
    "pythonIndentUnit": 4
   },
   "notebookName": "Access S3 Without Mounting",
   "widgets": {}
  }
 },
 "nbformat": 4,
 "nbformat_minor": 0
}
