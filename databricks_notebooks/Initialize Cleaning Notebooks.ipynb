{
 "cells": [
  {
   "cell_type": "markdown",
   "metadata": {
    "application/vnd.databricks.v1+cell": {
     "cellMetadata": {},
     "inputWidgets": {},
     "nuid": "051d15f7-9e30-44d5-8465-c8d64a556ecb",
     "showTitle": false,
     "title": ""
    }
   },
   "source": [
    "# Initialize the Cleaning Notebooks"
   ]
  },
  {
   "cell_type": "code",
   "execution_count": 0,
   "metadata": {
    "application/vnd.databricks.v1+cell": {
     "cellMetadata": {},
     "inputWidgets": {},
     "nuid": "68bca32a-2985-48be-b526-66424762d104",
     "showTitle": false,
     "title": ""
    }
   },
   "outputs": [],
   "source": [
    "def init_cleaner(file_type):\n",
    "    '''\n",
    "    This function sets up the widget in the cleaning notebook and drops duplicates.\n",
    "\n",
    "    Args:\n",
    "        file_type (string) : The type ofdata to be cleaned (pin, geo or user).\n",
    "    \n",
    "    Returns:\n",
    "        pyspark.sql.DataFrame : A DataFrame of the data.\n",
    "    '''\n",
    "    # Define the input parameter with a default of \"Batch\" for batch processing\n",
    "    dbutils.widgets.dropdown(\"mode\", \"Batch\", [\"Batch\"])\n",
    "    print(\"Running in \" + dbutils.widgets.get(\"mode\") + \" mode.\")\n",
    "\n",
    "    # If \"Batch\" or \"Stream\" mode, use appropriate temp view\n",
    "    if(dbutils.widgets.get(\"mode\") == \"Batch\"):\n",
    "        df_out = spark.table(f\"global_temp.gtv_129a67850695_{file_type}\")\n",
    "    elif(dbutils.widgets.get(\"mode\") == \"Stream\"):\n",
    "        df_out = spark.table(f\"global_temp.gtv_129a67850695_stream_{file_type}\")\n",
    "    else:\n",
    "        raise Exception(\"Incorrect input for mode parameter\")\n",
    "\n",
    "    # Drop duplicates\n",
    "    df_out = df_out.distinct()\n",
    "\n",
    "    return df_out"
   ]
  }
 ],
 "metadata": {
  "application/vnd.databricks.v1+notebook": {
   "dashboards": [],
   "language": "python",
   "notebookMetadata": {
    "pythonIndentUnit": 4
   },
   "notebookName": "Initialize Cleaning Notebooks",
   "widgets": {}
  }
 },
 "nbformat": 4,
 "nbformat_minor": 0
}
