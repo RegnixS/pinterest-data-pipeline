{
 "cells": [
  {
   "cell_type": "markdown",
   "metadata": {
    "application/vnd.databricks.v1+cell": {
     "cellMetadata": {},
     "inputWidgets": {},
     "nuid": "051d15f7-9e30-44d5-8465-c8d64a556ecb",
     "showTitle": false,
     "title": ""
    }
   },
   "source": [
    "# Cleaning Utils"
   ]
  },
  {
   "cell_type": "markdown",
   "metadata": {
    "application/vnd.databricks.v1+cell": {
     "cellMetadata": {},
     "inputWidgets": {},
     "nuid": "4d077112-675b-4425-8e0f-92e5c60d0bfa",
     "showTitle": false,
     "title": ""
    }
   },
   "source": [
    "## Initialize Notebook"
   ]
  },
  {
   "cell_type": "code",
   "execution_count": 0,
   "metadata": {
    "application/vnd.databricks.v1+cell": {
     "cellMetadata": {},
     "inputWidgets": {},
     "nuid": "68bca32a-2985-48be-b526-66424762d104",
     "showTitle": false,
     "title": ""
    }
   },
   "outputs": [],
   "source": [
    "def init_cleaner(file_type):\n",
    "    '''\n",
    "    This function sets up the widget in the cleaning notebook and drops duplicates.\n",
    "\n",
    "    Args:\n",
    "        file_type (string) : The type ofdata to be cleaned (pin, geo or user).\n",
    "    \n",
    "    Returns:\n",
    "        pyspark.sql.DataFrame : A DataFrame of the data.\n",
    "    '''\n",
    "    # Define the input parameter with a default of \"Batch\" for batch processing\n",
    "    dbutils.widgets.dropdown(\"mode\", \"Batch\", [\"Batch\"])\n",
    "    print(\"Running in \" + dbutils.widgets.get(\"mode\") + \" mode.\")\n",
    "\n",
    "    # If \"Batch\" or \"Stream\" mode, use appropriate temp view\n",
    "    if(dbutils.widgets.get(\"mode\") == \"Batch\"):\n",
    "        df_out = spark.table(f\"global_temp.gtv_129a67850695_{file_type}\")\n",
    "    elif(dbutils.widgets.get(\"mode\") == \"Stream\"):\n",
    "        df_out = spark.table(f\"global_temp.gtv_129a67850695_stream_{file_type}\")\n",
    "    else:\n",
    "        raise Exception(\"Incorrect input for mode parameter\")\n",
    "\n",
    "    # Drop duplicates\n",
    "    df_out = df_out.distinct()\n",
    "\n",
    "    return df_out"
   ]
  },
  {
   "cell_type": "markdown",
   "metadata": {
    "application/vnd.databricks.v1+cell": {
     "cellMetadata": {},
     "inputWidgets": {},
     "nuid": "92c0449a-4c4e-4344-8b67-328575e221b5",
     "showTitle": false,
     "title": ""
    }
   },
   "source": [
    "## Copy to Temporary Global Views"
   ]
  },
  {
   "cell_type": "code",
   "execution_count": 0,
   "metadata": {
    "application/vnd.databricks.v1+cell": {
     "cellMetadata": {},
     "inputWidgets": {},
     "nuid": "0d5bd687-1f70-4230-9944-032b12109ad6",
     "showTitle": false,
     "title": ""
    }
   },
   "outputs": [],
   "source": [
    "def copy_to_gtv(df_in, file_type):\n",
    "    '''\n",
    "    This function copies the cleaned dataframes to Global Tempory Views to be used by other notebooks.\n",
    "\n",
    "    Args:\n",
    "        df_in (pyspark.sql.DataFrame) : A DataFrame of the cleaned data.\n",
    "        file_type (string) : The type ofdata to be cleaned (pin, geo or user).\n",
    "    '''\n",
    "    # If \"Batch\" or \"Stream\" mode, use appropriate temp view\n",
    "    if (dbutils.widgets.get(\"mode\") == \"Batch\"):\n",
    "        df_in.createOrReplaceGlobalTempView(f\"gtv_129a67850695_{file_type}_clean\")\n",
    "    elif(dbutils.widgets.get(\"mode\") == \"Stream\"):\n",
    "        df_in.createOrReplaceGlobalTempView(f\"gtv_129a67850695_stream_{file_type}_clean\")\n",
    "    print(\"Global Temp View created for \" + dbutils.widgets.get(\"mode\") + \" mode.\")"
   ]
  }
 ],
 "metadata": {
  "application/vnd.databricks.v1+notebook": {
   "dashboards": [],
   "language": "python",
   "notebookMetadata": {
    "pythonIndentUnit": 4
   },
   "notebookName": "Cleaning Utils",
   "widgets": {}
  }
 },
 "nbformat": 4,
 "nbformat_minor": 0
}
